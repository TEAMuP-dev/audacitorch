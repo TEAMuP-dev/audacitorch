{
  "cells": [
    {
      "cell_type": "markdown",
      "metadata": {
        "id": "YzXLaUWZZa1x"
      },
      "source": [
        "# Example - Serializing An Asteroid Model for Audacity\n",
        "\n",
        "[Asteroid](https://github.com/asteroid-team/asteroid) is a source separation library that contains recipes for training state-of-the-art source separation models on a variety of datasets. Their models trace into torchscript with no problem, so all we need to take care of is providing the wrappers for dealing with the I/O. The models are hosted in [HuggingFace](https://huggingface.co/models?filter=asteroid).  "
      ]
    },
    {
      "cell_type": "markdown",
      "metadata": {
        "id": "wuDXz5izZmYW"
      },
      "source": [
        "### preliminaries\n",
        "\n",
        "Install some dependencies. "
      ]
    },
    {
      "cell_type": "code",
      "execution_count": null,
      "metadata": {
        "colab": {
          "base_uri": "https://localhost:8080/",
          "height": 1000
        },
        "id": "On9KOV8Ojf4q",
        "outputId": "a06c488c-9b17-4a47-dda6-52db861c07da"
      },
      "outputs": [],
      "source": [
        "!git clone https://github.com/asteroid-team/asteroid\n",
        "!pip install ./asteroid/"
      ]
    },
    {
      "cell_type": "code",
      "execution_count": null,
      "metadata": {
        "id": "U7ZVTROrjlNe"
      },
      "outputs": [],
      "source": [
        "%%capture\n",
        "import os\n",
        "import math\n",
        "import torch\n",
        "from torch import nn\n",
        "from asteroid.models import ConvTasNet\n",
        "import json\n",
        "from pathlib import Path\n",
        "\n",
        "# use no grad!\n",
        "torch.set_grad_enabled(False)"
      ]
    },
    {
      "cell_type": "code",
      "execution_count": null,
      "metadata": {
        "id": "j5Hf_6C7CRef"
      },
      "outputs": [],
      "source": [
        "%%capture\n",
        "# required for huggingface\n",
        "!sudo apt-get install git-lfs\n",
        "!git lfs install"
      ]
    },
    {
      "cell_type": "markdown",
      "metadata": {
        "id": "8J7rIc1pdVTs"
      },
      "source": [
        "### Let's serialize a pretrained asteroid model!"
      ]
    },
    {
      "cell_type": "code",
      "execution_count": null,
      "metadata": {
        "id": "KMCDOjH2Z9v3"
      },
      "outputs": [],
      "source": [
        "# download pretrained model from Asteroid\n",
        "model = ConvTasNet.from_pretrained('JorisCos/ConvTasNet_Libri2Mix_sepnoisy_16k')"
      ]
    },
    {
      "cell_type": "code",
      "execution_count": null,
      "metadata": {
        "colab": {
          "base_uri": "https://localhost:8080/"
        },
        "id": "UTpJBWTuGPMw",
        "outputId": "52161c00-048c-4111-f1e3-d4e990bf927a"
      },
      "outputs": [],
      "source": [
        "from torchsummary import summary\n",
        "print(summary(model, (1, 4800)))"
      ]
    },
    {
      "cell_type": "markdown",
      "metadata": {
        "id": "sUq26hjglXj9"
      },
      "source": [
        "### Model Metadata\n",
        "\n"
      ]
    },
    {
      "cell_type": "markdown",
      "metadata": {
        "id": "62_A5Qrj_x3A"
      },
      "source": [
        "We need to create a `metadata.json` file for our model. Certain details about the model, such as its sample rate, tool type (e.g. waveform-to-waveform or waveform-to-labels), list of labels, etc. must be provided in a separate metadata file. See the [contributing documentation](https://github.com/hugofloresgarcia/audacitorch) for the full metadata schema."
      ]
    },
    {
      "cell_type": "code",
      "execution_count": null,
      "metadata": {
        "id": "M802buygTo7q"
      },
      "outputs": [],
      "source": [
        "# create a dictionary with model metadata\n",
        "args = model.get_model_args()\n",
        "metadata = {\n",
        "    'sample_rate': int(args['sample_rate']), \n",
        "    'domain_tags': ['speech'],\n",
        "    'short_description': 'Use me for speech separation! Works with 2 speakers.',\n",
        "    'long_description':  'This model was trained by Joris Cosentino using the librimix recipe in Asteroid. It was trained on the sep_noisy task of the Libri2Mix dataset.',\n",
        "    'tags': ['speech separation', 'speech'],\n",
        "    'labels': ['speaker-1', 'speaker-2'],\n",
        "    'effect_type': 'waveform-to-waveform',\n",
        "    'multichannel': False,\n",
        "}"
      ]
    },
    {
      "cell_type": "markdown",
      "metadata": {},
      "source": [
        "### Prepare for Wrapping the Model\n",
        "\n",
        "Because source separation models return audio waveforms as output, we'll need to use the `WaveformToWaveform` base class."
      ]
    },
    {
      "cell_type": "code",
      "execution_count": null,
      "metadata": {
        "colab": {
          "base_uri": "https://localhost:8080/",
          "height": 317
        },
        "id": "Hy_hU3FTuGP6",
        "outputId": "35f4151d-9142-4dd0-96ee-bfc4c8ede702"
      },
      "outputs": [],
      "source": [
        "from audacitorch import WaveformToWaveform\n",
        "from audacitorch.utils import save_model, test_run, validate_metadata"
      ]
    },
    {
      "cell_type": "code",
      "execution_count": null,
      "metadata": {
        "id": "sMRNkxNluqLt"
      },
      "outputs": [],
      "source": [
        "# look at the docstring for do_forward_pass\n",
        "WaveformToWaveform.do_forward_pass?"
      ]
    },
    {
      "cell_type": "markdown",
      "metadata": {
        "id": "xKWzYa1DDGgb"
      },
      "source": [
        "Waveform-to-waveform models for Audacity need to be end-to-end. That is, our model needs to be able to receive a waveform tensor as input (shape `(n_channels, n_samples`), and return a waveform tensor as output (shape `n_src, n_samples`). \n",
        "\n",
        "Lucky for us, Asteroid already contains a `separate()` method for performing source separation directly from a waveform tensor to another waveform tensor, so all we need to do is remove the batch dimension!"
      ]
    },
    {
      "cell_type": "code",
      "execution_count": null,
      "metadata": {
        "id": "DJi9FwNUmAvK"
      },
      "outputs": [],
      "source": [
        " class AsteroidWrapper(WaveformToWaveform):\n",
        "\n",
        "  def do_forward_pass(self, x: torch.Tensor) -> torch.Tensor:\n",
        "    return self.model.separate(x)[0]"
      ]
    },
    {
      "cell_type": "markdown",
      "metadata": {
        "id": "H3-gv7t_EL6X"
      },
      "source": [
        "## Serialize!\n",
        "\n",
        "We now have an `AsteroidWrapper` class that satisfies the input/output constraints required by waveform-to-waveform models in Audacity. It's time to serialize into a `torchscript` model. "
      ]
    },
    {
      "cell_type": "code",
      "execution_count": null,
      "metadata": {
        "id": "5gjC2XUkTqSx"
      },
      "outputs": [],
      "source": [
        "# compile!\n",
        "wrapper = AsteroidWrapper(model)\n",
        "example_inputs = wrapper.get_example_inputs()\n",
        "\n",
        "serialized_model = torch.jit.trace(wrapper, example_inputs[0], \n",
        "                                   check_inputs=example_inputs)\n",
        "serialized_model = torch.jit.script(serialized_model)\n",
        "\n",
        "print(f'sample input shape: {example_inputs[0].shape}')\n",
        "print(f'sample output shape: {serialized_model(example_inputs[0]).shape}')\n",
        "\n",
        "# test run!\n",
        "test_run(serialized_model)\n",
        "\n",
        "# make sure our metadata is ok\n",
        "success, msg = validate_metadata(metadata)\n",
        "assert success\n",
        "\n",
        "save_model(serialized_model, metadata, Path('ConvTasNet-DAMP-Vocals'))"
      ]
    },
    {
      "cell_type": "markdown",
      "metadata": {
        "id": "aTszwz7FD27l"
      },
      "source": [
        "## All set!\n",
        "\n",
        "Your `model.pt` and `metadata.json` files are ready for upload to HuggingFace. Once your model has been uploaded, you will be able to access it in Audacity by . See the [contributing documentation](https://github.com/hugofloresgarcia/audacitorch) for more information on uploading to HuggingFace. "
      ]
    },
    {
      "cell_type": "code",
      "execution_count": null,
      "metadata": {
        "id": "Jrdx1qN_wlGJ"
      },
      "outputs": [],
      "source": []
    }
  ],
  "metadata": {
    "colab": {
      "collapsed_sections": [],
      "name": "tracing-prototypes.ipynb",
      "provenance": []
    },
    "kernelspec": {
      "display_name": "Python 3",
      "name": "python3"
    },
    "language_info": {
      "name": "python"
    }
  },
  "nbformat": 4,
  "nbformat_minor": 2
}
