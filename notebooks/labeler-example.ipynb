{
 "cells": [
  {
   "cell_type": "markdown",
   "metadata": {
    "id": "snpRGxi9rBIk"
   },
   "source": [
    "# Audacity WaveformToLabels Example\n",
    "\n",
    "In this notebook we will load in a [speech to text model](https://huggingface.co/facebook/s2t-medium-librispeech-asr) from Facebook using Huggingface's Transformers module/package. We will look at the necessary dependencies to serialize  a model, how to create a wrapper class for a pretrained WaveformToLabels model, and show how to save this wrapped model so that it can easily be used in Audacity. "
   ]
  },
  {
   "cell_type": "markdown",
   "metadata": {},
   "source": [
    "## Dependencies"
   ]
  },
  {
   "cell_type": "code",
   "execution_count": null,
   "metadata": {
    "id": "_t_eER_7u03e"
   },
   "outputs": [],
   "source": [
    "!pip install audacitorch\n",
    "!pip install transformers"
   ]
  },
  {
   "cell_type": "code",
   "execution_count": null,
   "metadata": {
    "id": "g7c5hvQ978Cq"
   },
   "outputs": [],
   "source": [
    "%%capture\n",
    "import torch\n",
    "from torch import nn\n",
    "from transformers import Wav2Vec2Processor, Wav2Vec2ForCTC\n",
    "import torchaudio\n",
    "import json\n",
    "\n",
    "# use no grad!\n",
    "torch.set_grad_enabled(False)"
   ]
  },
  {
   "cell_type": "markdown",
   "metadata": {},
   "source": [
    "These packages will be needed if you want to upload your model to Huggingface using a CLI. "
   ]
  },
  {
   "cell_type": "code",
   "execution_count": null,
   "metadata": {
    "id": "a4q83Zsg_AlH"
   },
   "outputs": [],
   "source": [
    "%%capture\n",
    "# required for huggingface\n",
    "!sudo apt-get install git-lfs\n",
    "!git lfs install"
   ]
  },
  {
   "cell_type": "markdown",
   "metadata": {
    "id": "eprLiH6w8Z_c"
   },
   "source": [
    "\n",
    "## Wraping the model\n",
    "We need to create a `.pt` containing the model itself, and a json string with the model's metadata. This meta data will tell end users about the model's domain, sample rate, labels, etc..."
   ]
  },
  {
   "cell_type": "markdown",
   "metadata": {},
   "source": [
    "`torchaudacity` provides a [`WaveformToLabels` class](https://github.com/hugofloresgarcia/torchaudacity/blob/main/torchaudacity/core.py#L52). We will use this as a base class for our pretrained models wrapper. The `WaveformToLabels` class provides us with tests to ensure that our model is receiving properly sized input, and outputting the expected tensor shapes for Audacity's Deep Learning Analyzer, for a [graphical explination visit the main README here](https://github.com/hugofloresgarcia/torchaudacity#contributing-models-to-audacity). \n",
    "\n"
   ]
  },
  {
   "cell_type": "code",
   "execution_count": null,
   "metadata": {},
   "outputs": [],
   "source": [
    "import sys\n",
    "sys.path.append(\"..\")"
   ]
  },
  {
   "cell_type": "code",
   "execution_count": null,
   "metadata": {
    "id": "hJdsAR_uNEQ0"
   },
   "outputs": [],
   "source": [
    "from audacitorch.core import WaveformToLabelsBase\n",
    "\n",
    "class sub_models(nn.Module):\n",
    "    def __init__(self):\n",
    "        super().__init__()\n",
    "        self._model = Wav2Vec2ForCTC.from_pretrained(\"facebook/wav2vec2-base-960h\", torchscript=True)\n",
    "        self._processor = Wav2Vec2Processor.from_pretrained(\"facebook/wav2vec2-base-960h\", torchscript=True)\n",
    "        self.token_to_idx = {val:key for key, val in self._processor.tokenizer.decoder.items()}\n",
    "    \n",
    "\n",
    "class model_wrapper(WaveformToLabelsBase):\n",
    "    def do_forward_pass(self, _input):\n",
    "        input_values = self.model._processor(_input, return_tensors=\"pt\", padding=\"longest\").input_values[0]\n",
    "        logits = self.model._model(input_values)[0]\n",
    "        predicted_ids = torch.argmax(logits, dim=-1)\n",
    "        transcription = self.model._processor.decode(predicted_ids[0])   \n",
    "        num_preds = len(transcription)\n",
    "\n",
    "        # model predictions must be logits or one-hot encoded \n",
    "        preds_onehot = torch.FloatTensor(num_preds, len(self.model.token_to_idx))\n",
    "        preds_onehot.zero_()\n",
    "        for i, token in enumerate(transcription):\n",
    "            if token == ' ':\n",
    "                token = '<s>'\n",
    "            token_idx = self.model.token_to_idx[token]\n",
    "            preds_onehot[i][token_idx] = 0.99\n",
    "        \n",
    "        # this model does not use timestamps, therefore we will use \n",
    "        # equally sized time ranges for each prediction\n",
    "        total_time = _input.shape[1] / 16000\n",
    "        equal_size_timestamp = total_time / num_preds\n",
    "        timestamps = torch.FloatTensor(num_preds, 2)\n",
    "        timestamps.zero_()\n",
    "        for i in range(num_preds):\n",
    "            if i == 0:\n",
    "                timestamps[0][1] = equal_size_timestamp\n",
    "            else:\n",
    "                timestamps[i][0] = timestamps[i-1][1]\n",
    "                timestamps[i][1] = timestamps[i][0] + equal_size_timestamp\n",
    "\n",
    "        # return the predictions and timestamps as a tensor\n",
    "        preds = torch.argmax(preds_onehot, dim=-1, keepdim=False)\n",
    "        return (pred, timestamps)"
   ]
  },
  {
   "cell_type": "code",
   "execution_count": null,
   "metadata": {
    "scrolled": false
   },
   "outputs": [],
   "source": [
    "sub_models = sub_models()\n",
    "torchscript_model = model_wrapper(sub_models)"
   ]
  },
  {
   "cell_type": "markdown",
   "metadata": {
    "id": "25Nl_IuaChYu"
   },
   "source": [
    "## Model Metadata"
   ]
  },
  {
   "cell_type": "markdown",
   "metadata": {
    "id": "GSpBRRjZCj1U"
   },
   "source": [
    "We need to create a `metadata.json` file for our model. This file will be added to the Huggingface repo and will provide Audacity with important information about our model. This allows for users to quickly get important information about this model directly from Audacity. See the [contributing documentation](https://github.com/hugofloresgarcia/torchaudacity) for the full metadata schema."
   ]
  },
  {
   "cell_type": "code",
   "execution_count": null,
   "metadata": {},
   "outputs": [],
   "source": [
    "vocab = [str(letter) for letter in sub_models._processor.tokenizer.decoder.values()]"
   ]
  },
  {
   "cell_type": "code",
   "execution_count": null,
   "metadata": {
    "id": "MGJaAX7QCd4W"
   },
   "outputs": [],
   "source": [
    "# create a dictionary with model metadata\n",
    "metadata = {\n",
    "    'sample_rate': 16000, \n",
    "    'domain_tags': ['speech'],\n",
    "    'short_description': 'I will label your speech into text :]',\n",
    "    'long_description': \n",
    "              'This is an Audacity wrapper for the model, '\n",
    "              'forked from the repository '\n",
    "              'facebook/wav2vec2-base-960h'\n",
    "              'This model was trained by Alexei Baevski'\n",
    "              ', Henry Zhou, Abdelrahman Mohamed and,'\n",
    "              'Michael Auli.',\n",
    "    'tags': ['speech-to-text'],\n",
    "    'effect_type': 'waveform-to-labels',\n",
    "    'multichannel': False,\n",
    "    'labels': vocab,\n",
    "}"
   ]
  },
  {
   "cell_type": "markdown",
   "metadata": {},
   "source": [
    "## Saving Our Model & Metadata\n",
    "\n",
    "We will now save the wrapped model locally by tracing it with torchscript, and generating a `ScriptModule` or `ScriptFunction` using `torch.jit.script`. We can then use `torchaudacity's` utility function `save_model` to save the model and meta data easily. "
   ]
  },
  {
   "cell_type": "code",
   "execution_count": null,
   "metadata": {
    "id": "_HKQspnf_hJM"
   },
   "outputs": [],
   "source": [
    "import os\n",
    "from pathlib import Path\n",
    "from audacitorch.utils import save_model\n",
    "import torchaudio "
   ]
  },
  {
   "cell_type": "code",
   "execution_count": null,
   "metadata": {
    "id": "In-r4gJlE-H9"
   },
   "outputs": [],
   "source": [
    "# compiling and saving model\n",
    "# dummy_input = torch.randn((1, 2048)) # dummy input for model tracing\n",
    "waveform, sample_rate = torchaudio.load(os.path.join(os.getcwd(), 'assets/test.wav')) # test audio for tracing\n",
    "traced_model = torch.jit.trace(torchscript_model, waveform)\n",
    "#serialized_model = torch.jit.script(traced_model)\n"
   ]
  },
  {
   "cell_type": "code",
   "execution_count": null,
   "metadata": {},
   "outputs": [],
   "source": [
    "save_model(traced_model, metadata, Path('audacity-Wav2Vec2-Base'))"
   ]
  },
  {
   "cell_type": "markdown",
   "metadata": {},
   "source": [
    "## Upload your model\n",
    "Now you're ready to upload your model, in the case of this note book the model is stored in a folder titled 'audacity-s2t-medium'. For more information see [the main README](https://github.com/hugofloresgarcia/torchaudacity#exporting-to-huggingface) "
   ]
  },
  {
   "cell_type": "markdown",
   "metadata": {},
   "source": [
    "--- \n"
   ]
  },
  {
   "cell_type": "markdown",
   "metadata": {},
   "source": [
    "## Note on Huggingface `transformers` module"
   ]
  },
  {
   "cell_type": "markdown",
   "metadata": {},
   "source": [
    "Currently the Huggingface `transformers` module has limited support when exporting a model to torchscript. Through trial and error we have found that the [`Wav2Vec2`](https://huggingface.co/transformers/model_doc/wav2vec2.html) models seem to export with little issue. The [`Speech2Text`](https://huggingface.co/transformers/model_doc/speech_to_text.html) models appear to have issues when exported to torchscript. \n",
    "\n",
    "For more information about the Huggingface `transformers` torchscript compatiliablity follow the [this hyperlink](https://huggingface.co/transformers/torchscript.html). "
   ]
  }
 ],
 "metadata": {
  "colab": {
   "collapsed_sections": [],
   "name": "labeler.ipynb",
   "provenance": []
  },
  "kernelspec": {
   "display_name": "Python 3 (ipykernel)",
   "language": "python",
   "name": "python3"
  },
  "language_info": {
   "codemirror_mode": {
    "name": "ipython",
    "version": 3
   },
   "file_extension": ".py",
   "mimetype": "text/x-python",
   "name": "python",
   "nbconvert_exporter": "python",
   "pygments_lexer": "ipython3",
   "version": "3.9.6"
  }
 },
 "nbformat": 4,
 "nbformat_minor": 2
}
