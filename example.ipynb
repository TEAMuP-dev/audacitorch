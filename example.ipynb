{
  "nbformat": 4,
  "nbformat_minor": 0,
  "metadata": {
    "colab": {
      "name": "tracing-prototypes.ipynb",
      "provenance": [],
      "collapsed_sections": []
    },
    "kernelspec": {
      "display_name": "Python 3",
      "name": "python3"
    },
    "language_info": {
      "name": "python"
    }
  },
  "cells": [
    {
      "cell_type": "markdown",
      "metadata": {
        "id": "YzXLaUWZZa1x"
      },
      "source": [
        "# Example - Serializing An Asteroid Model for Audacity\n",
        "\n",
        "[Asteroid](https://github.com/asteroid-team/asteroid) is a source separation library that contains recipes for training state-of-the-art source separation models on a variety of datasets. Their models trace into torchscript with no problem, so all we need to take care of is providing the wrappers for dealing with the I/O. The models are hosted in [HuggingFace](https://huggingface.co/models?filter=asteroid).  "
      ]
    },
    {
      "cell_type": "markdown",
      "metadata": {
        "id": "wuDXz5izZmYW"
      },
      "source": [
        "### preliminaries\n",
        "\n",
        "Install some dependencies. "
      ]
    },
    {
      "cell_type": "code",
      "metadata": {
        "id": "On9KOV8Ojf4q",
        "colab": {
          "base_uri": "https://localhost:8080/",
          "height": 1000
        },
        "outputId": "a06c488c-9b17-4a47-dda6-52db861c07da"
      },
      "source": [
        "!git clone https://github.com/asteroid-team/asteroid\n",
        "!pip install ./asteroid/\n",
        "!pip install \"torch==1.8.1\"\n",
        "!pip install \"torchaudio==0.8.0\"\n",
        "!rm -rf torchaudacity\n",
        "!git clone https://github.com/hugofloresgarcia/torchaudacity\n",
        "!pip install ./torchaudacity\n"
      ],
      "execution_count": null,
      "outputs": [
        {
          "output_type": "stream",
          "name": "stdout",
          "text": [
            "fatal: destination path 'asteroid' already exists and is not an empty directory.\n",
            "Processing ./asteroid\n",
            "\u001b[33m  DEPRECATION: A future pip version will change local packages to be built in-place without first copying to a temporary directory. We recommend you use --use-feature=in-tree-build to test your packages with this new behavior before it becomes the default.\n",
            "   pip 21.3 will remove support for this functionality. You can find discussion regarding this at https://github.com/pypa/pip/issues/7555.\u001b[0m\n",
            "  Installing build dependencies ... \u001b[?25l\u001b[?25hdone\n",
            "  Getting requirements to build wheel ... \u001b[?25l\u001b[?25hdone\n",
            "    Preparing wheel metadata ... \u001b[?25l\u001b[?25hdone\n",
            "Requirement already satisfied: julius in /usr/local/lib/python3.7/dist-packages (from asteroid==0.5.2.dev0) (0.2.5)\n",
            "Requirement already satisfied: pb-bss-eval>=0.0.2 in /usr/local/lib/python3.7/dist-packages (from asteroid==0.5.2.dev0) (0.0.2)\n",
            "Requirement already satisfied: torchaudio>=0.5.0 in /usr/local/lib/python3.7/dist-packages (from asteroid==0.5.2.dev0) (0.8.0)\n",
            "Requirement already satisfied: pytorch-lightning>=1.0.1 in /usr/local/lib/python3.7/dist-packages (from asteroid==0.5.2.dev0) (1.4.7)\n",
            "Requirement already satisfied: asteroid-filterbanks>=0.4.0 in /usr/local/lib/python3.7/dist-packages (from asteroid==0.5.2.dev0) (0.4.0)\n",
            "Requirement already satisfied: torch-optimizer>=0.0.1a12 in /usr/local/lib/python3.7/dist-packages (from asteroid==0.5.2.dev0) (0.1.0)\n",
            "Requirement already satisfied: PyYAML>=5.0 in /usr/local/lib/python3.7/dist-packages (from asteroid==0.5.2.dev0) (5.4.1)\n",
            "Requirement already satisfied: pandas>=0.23.4 in /usr/local/lib/python3.7/dist-packages (from asteroid==0.5.2.dev0) (1.1.5)\n",
            "Requirement already satisfied: torch>=1.8.0 in /usr/local/lib/python3.7/dist-packages (from asteroid==0.5.2.dev0) (1.8.0)\n",
            "Requirement already satisfied: torch-stoi>=0.1.2 in /usr/local/lib/python3.7/dist-packages (from asteroid==0.5.2.dev0) (0.1.2)\n",
            "Requirement already satisfied: scipy>=1.1.0 in /usr/local/lib/python3.7/dist-packages (from asteroid==0.5.2.dev0) (1.4.1)\n",
            "Requirement already satisfied: huggingface-hub>=0.0.2 in /usr/local/lib/python3.7/dist-packages (from asteroid==0.5.2.dev0) (0.0.17)\n",
            "Requirement already satisfied: numpy>=1.16.4 in /usr/local/lib/python3.7/dist-packages (from asteroid==0.5.2.dev0) (1.19.5)\n",
            "Requirement already satisfied: SoundFile>=0.10.2 in /usr/local/lib/python3.7/dist-packages (from asteroid==0.5.2.dev0) (0.10.3.post1)\n",
            "Requirement already satisfied: typing-extensions in /usr/local/lib/python3.7/dist-packages (from asteroid-filterbanks>=0.4.0->asteroid==0.5.2.dev0) (3.7.4.3)\n",
            "Requirement already satisfied: tqdm in /usr/local/lib/python3.7/dist-packages (from huggingface-hub>=0.0.2->asteroid==0.5.2.dev0) (4.62.2)\n",
            "Requirement already satisfied: packaging>=20.9 in /usr/local/lib/python3.7/dist-packages (from huggingface-hub>=0.0.2->asteroid==0.5.2.dev0) (21.0)\n",
            "Requirement already satisfied: filelock in /usr/local/lib/python3.7/dist-packages (from huggingface-hub>=0.0.2->asteroid==0.5.2.dev0) (3.0.12)\n",
            "Requirement already satisfied: requests in /usr/local/lib/python3.7/dist-packages (from huggingface-hub>=0.0.2->asteroid==0.5.2.dev0) (2.23.0)\n",
            "Requirement already satisfied: importlib-metadata in /usr/local/lib/python3.7/dist-packages (from huggingface-hub>=0.0.2->asteroid==0.5.2.dev0) (4.8.1)\n",
            "Requirement already satisfied: pyparsing>=2.0.2 in /usr/local/lib/python3.7/dist-packages (from packaging>=20.9->huggingface-hub>=0.0.2->asteroid==0.5.2.dev0) (2.4.7)\n",
            "Requirement already satisfied: python-dateutil>=2.7.3 in /usr/local/lib/python3.7/dist-packages (from pandas>=0.23.4->asteroid==0.5.2.dev0) (2.8.2)\n",
            "Requirement already satisfied: pytz>=2017.2 in /usr/local/lib/python3.7/dist-packages (from pandas>=0.23.4->asteroid==0.5.2.dev0) (2018.9)\n",
            "Requirement already satisfied: pesq in /usr/local/lib/python3.7/dist-packages (from pb-bss-eval>=0.0.2->asteroid==0.5.2.dev0) (0.0.3)\n",
            "Requirement already satisfied: pystoi in /usr/local/lib/python3.7/dist-packages (from pb-bss-eval>=0.0.2->asteroid==0.5.2.dev0) (0.3.3)\n",
            "Requirement already satisfied: cached-property in /usr/local/lib/python3.7/dist-packages (from pb-bss-eval>=0.0.2->asteroid==0.5.2.dev0) (1.5.2)\n",
            "Requirement already satisfied: einops in /usr/local/lib/python3.7/dist-packages (from pb-bss-eval>=0.0.2->asteroid==0.5.2.dev0) (0.3.2)\n",
            "Requirement already satisfied: mir-eval in /usr/local/lib/python3.7/dist-packages (from pb-bss-eval>=0.0.2->asteroid==0.5.2.dev0) (0.6)\n",
            "Requirement already satisfied: six>=1.5 in /usr/local/lib/python3.7/dist-packages (from python-dateutil>=2.7.3->pandas>=0.23.4->asteroid==0.5.2.dev0) (1.15.0)\n",
            "Requirement already satisfied: pyDeprecate==0.3.1 in /usr/local/lib/python3.7/dist-packages (from pytorch-lightning>=1.0.1->asteroid==0.5.2.dev0) (0.3.1)\n",
            "Requirement already satisfied: future>=0.17.1 in /usr/local/lib/python3.7/dist-packages (from pytorch-lightning>=1.0.1->asteroid==0.5.2.dev0) (0.18.2)\n",
            "Requirement already satisfied: torchmetrics>=0.4.0 in /usr/local/lib/python3.7/dist-packages (from pytorch-lightning>=1.0.1->asteroid==0.5.2.dev0) (0.5.1)\n",
            "Requirement already satisfied: fsspec[http]!=2021.06.0,>=2021.05.0 in /usr/local/lib/python3.7/dist-packages (from pytorch-lightning>=1.0.1->asteroid==0.5.2.dev0) (2021.8.1)\n",
            "Requirement already satisfied: tensorboard>=2.2.0 in /usr/local/lib/python3.7/dist-packages (from pytorch-lightning>=1.0.1->asteroid==0.5.2.dev0) (2.6.0)\n",
            "Requirement already satisfied: aiohttp in /usr/local/lib/python3.7/dist-packages (from fsspec[http]!=2021.06.0,>=2021.05.0->pytorch-lightning>=1.0.1->asteroid==0.5.2.dev0) (3.7.4.post0)\n",
            "Requirement already satisfied: cffi>=1.0 in /usr/local/lib/python3.7/dist-packages (from SoundFile>=0.10.2->asteroid==0.5.2.dev0) (1.14.6)\n",
            "Requirement already satisfied: pycparser in /usr/local/lib/python3.7/dist-packages (from cffi>=1.0->SoundFile>=0.10.2->asteroid==0.5.2.dev0) (2.20)\n",
            "Requirement already satisfied: google-auth-oauthlib<0.5,>=0.4.1 in /usr/local/lib/python3.7/dist-packages (from tensorboard>=2.2.0->pytorch-lightning>=1.0.1->asteroid==0.5.2.dev0) (0.4.6)\n",
            "Requirement already satisfied: werkzeug>=0.11.15 in /usr/local/lib/python3.7/dist-packages (from tensorboard>=2.2.0->pytorch-lightning>=1.0.1->asteroid==0.5.2.dev0) (1.0.1)\n",
            "Requirement already satisfied: wheel>=0.26 in /usr/local/lib/python3.7/dist-packages (from tensorboard>=2.2.0->pytorch-lightning>=1.0.1->asteroid==0.5.2.dev0) (0.37.0)\n",
            "Requirement already satisfied: tensorboard-data-server<0.7.0,>=0.6.0 in /usr/local/lib/python3.7/dist-packages (from tensorboard>=2.2.0->pytorch-lightning>=1.0.1->asteroid==0.5.2.dev0) (0.6.1)\n",
            "Requirement already satisfied: setuptools>=41.0.0 in /usr/local/lib/python3.7/dist-packages (from tensorboard>=2.2.0->pytorch-lightning>=1.0.1->asteroid==0.5.2.dev0) (57.4.0)\n",
            "Requirement already satisfied: google-auth<2,>=1.6.3 in /usr/local/lib/python3.7/dist-packages (from tensorboard>=2.2.0->pytorch-lightning>=1.0.1->asteroid==0.5.2.dev0) (1.35.0)\n",
            "Requirement already satisfied: absl-py>=0.4 in /usr/local/lib/python3.7/dist-packages (from tensorboard>=2.2.0->pytorch-lightning>=1.0.1->asteroid==0.5.2.dev0) (0.12.0)\n",
            "Requirement already satisfied: protobuf>=3.6.0 in /usr/local/lib/python3.7/dist-packages (from tensorboard>=2.2.0->pytorch-lightning>=1.0.1->asteroid==0.5.2.dev0) (3.17.3)\n",
            "Requirement already satisfied: grpcio>=1.24.3 in /usr/local/lib/python3.7/dist-packages (from tensorboard>=2.2.0->pytorch-lightning>=1.0.1->asteroid==0.5.2.dev0) (1.40.0)\n",
            "Requirement already satisfied: markdown>=2.6.8 in /usr/local/lib/python3.7/dist-packages (from tensorboard>=2.2.0->pytorch-lightning>=1.0.1->asteroid==0.5.2.dev0) (3.3.4)\n",
            "Requirement already satisfied: tensorboard-plugin-wit>=1.6.0 in /usr/local/lib/python3.7/dist-packages (from tensorboard>=2.2.0->pytorch-lightning>=1.0.1->asteroid==0.5.2.dev0) (1.8.0)\n",
            "Requirement already satisfied: rsa<5,>=3.1.4 in /usr/local/lib/python3.7/dist-packages (from google-auth<2,>=1.6.3->tensorboard>=2.2.0->pytorch-lightning>=1.0.1->asteroid==0.5.2.dev0) (4.7.2)\n",
            "Requirement already satisfied: cachetools<5.0,>=2.0.0 in /usr/local/lib/python3.7/dist-packages (from google-auth<2,>=1.6.3->tensorboard>=2.2.0->pytorch-lightning>=1.0.1->asteroid==0.5.2.dev0) (4.2.2)\n",
            "Requirement already satisfied: pyasn1-modules>=0.2.1 in /usr/local/lib/python3.7/dist-packages (from google-auth<2,>=1.6.3->tensorboard>=2.2.0->pytorch-lightning>=1.0.1->asteroid==0.5.2.dev0) (0.2.8)\n",
            "Requirement already satisfied: requests-oauthlib>=0.7.0 in /usr/local/lib/python3.7/dist-packages (from google-auth-oauthlib<0.5,>=0.4.1->tensorboard>=2.2.0->pytorch-lightning>=1.0.1->asteroid==0.5.2.dev0) (1.3.0)\n",
            "Requirement already satisfied: pyasn1<0.5.0,>=0.4.6 in /usr/local/lib/python3.7/dist-packages (from pyasn1-modules>=0.2.1->google-auth<2,>=1.6.3->tensorboard>=2.2.0->pytorch-lightning>=1.0.1->asteroid==0.5.2.dev0) (0.4.8)\n",
            "Requirement already satisfied: certifi>=2017.4.17 in /usr/local/lib/python3.7/dist-packages (from requests->huggingface-hub>=0.0.2->asteroid==0.5.2.dev0) (2021.5.30)\n",
            "Requirement already satisfied: chardet<4,>=3.0.2 in /usr/local/lib/python3.7/dist-packages (from requests->huggingface-hub>=0.0.2->asteroid==0.5.2.dev0) (3.0.4)\n",
            "Requirement already satisfied: urllib3!=1.25.0,!=1.25.1,<1.26,>=1.21.1 in /usr/local/lib/python3.7/dist-packages (from requests->huggingface-hub>=0.0.2->asteroid==0.5.2.dev0) (1.24.3)\n",
            "Requirement already satisfied: idna<3,>=2.5 in /usr/local/lib/python3.7/dist-packages (from requests->huggingface-hub>=0.0.2->asteroid==0.5.2.dev0) (2.10)\n",
            "Requirement already satisfied: oauthlib>=3.0.0 in /usr/local/lib/python3.7/dist-packages (from requests-oauthlib>=0.7.0->google-auth-oauthlib<0.5,>=0.4.1->tensorboard>=2.2.0->pytorch-lightning>=1.0.1->asteroid==0.5.2.dev0) (3.1.1)\n",
            "Requirement already satisfied: pytorch-ranger>=0.1.1 in /usr/local/lib/python3.7/dist-packages (from torch-optimizer>=0.0.1a12->asteroid==0.5.2.dev0) (0.1.1)\n",
            "Requirement already satisfied: yarl<2.0,>=1.0 in /usr/local/lib/python3.7/dist-packages (from aiohttp->fsspec[http]!=2021.06.0,>=2021.05.0->pytorch-lightning>=1.0.1->asteroid==0.5.2.dev0) (1.6.3)\n",
            "Requirement already satisfied: async-timeout<4.0,>=3.0 in /usr/local/lib/python3.7/dist-packages (from aiohttp->fsspec[http]!=2021.06.0,>=2021.05.0->pytorch-lightning>=1.0.1->asteroid==0.5.2.dev0) (3.0.1)\n",
            "Requirement already satisfied: attrs>=17.3.0 in /usr/local/lib/python3.7/dist-packages (from aiohttp->fsspec[http]!=2021.06.0,>=2021.05.0->pytorch-lightning>=1.0.1->asteroid==0.5.2.dev0) (21.2.0)\n",
            "Requirement already satisfied: multidict<7.0,>=4.5 in /usr/local/lib/python3.7/dist-packages (from aiohttp->fsspec[http]!=2021.06.0,>=2021.05.0->pytorch-lightning>=1.0.1->asteroid==0.5.2.dev0) (5.1.0)\n",
            "Requirement already satisfied: zipp>=0.5 in /usr/local/lib/python3.7/dist-packages (from importlib-metadata->huggingface-hub>=0.0.2->asteroid==0.5.2.dev0) (3.5.0)\n",
            "Building wheels for collected packages: asteroid\n",
            "  Building wheel for asteroid (PEP 517) ... \u001b[?25l\u001b[?25hdone\n",
            "  Created wheel for asteroid: filename=asteroid-0.5.2.dev0-py3-none-any.whl size=152663 sha256=e518ee8b2abe779eee010c383056bea7e8db183a96412226496d09b95bf7e36d\n",
            "  Stored in directory: /tmp/pip-ephem-wheel-cache-ww88rnrb/wheels/b4/01/29/3f608e3582bd598463efe6e267dc1a58027b4e285cf6494600\n",
            "Successfully built asteroid\n",
            "Installing collected packages: asteroid\n",
            "  Attempting uninstall: asteroid\n",
            "    Found existing installation: asteroid 0.5.2.dev0\n",
            "    Uninstalling asteroid-0.5.2.dev0:\n",
            "      Successfully uninstalled asteroid-0.5.2.dev0\n",
            "Successfully installed asteroid-0.5.2.dev0\n"
          ]
        },
        {
          "output_type": "display_data",
          "data": {
            "application/vnd.colab-display-data+json": {
              "pip_warning": {
                "packages": [
                  "asteroid"
                ]
              }
            }
          },
          "metadata": {}
        },
        {
          "output_type": "stream",
          "name": "stdout",
          "text": [
            "Collecting torch==1.8.1\n"
          ]
        },
        {
          "output_type": "error",
          "ename": "KeyboardInterrupt",
          "evalue": "ignored",
          "traceback": [
            "\u001b[0;31m---------------------------------------------------------------------------\u001b[0m",
            "\u001b[0;31mKeyboardInterrupt\u001b[0m                         Traceback (most recent call last)",
            "\u001b[0;32m<ipython-input-36-89b8dbbdbeca>\u001b[0m in \u001b[0;36m<module>\u001b[0;34m()\u001b[0m\n\u001b[1;32m      1\u001b[0m \u001b[0mget_ipython\u001b[0m\u001b[0;34m(\u001b[0m\u001b[0;34m)\u001b[0m\u001b[0;34m.\u001b[0m\u001b[0msystem\u001b[0m\u001b[0;34m(\u001b[0m\u001b[0;34m'git clone https://github.com/asteroid-team/asteroid'\u001b[0m\u001b[0;34m)\u001b[0m\u001b[0;34m\u001b[0m\u001b[0;34m\u001b[0m\u001b[0m\n\u001b[1;32m      2\u001b[0m \u001b[0mget_ipython\u001b[0m\u001b[0;34m(\u001b[0m\u001b[0;34m)\u001b[0m\u001b[0;34m.\u001b[0m\u001b[0msystem\u001b[0m\u001b[0;34m(\u001b[0m\u001b[0;34m'pip install ./asteroid/'\u001b[0m\u001b[0;34m)\u001b[0m\u001b[0;34m\u001b[0m\u001b[0;34m\u001b[0m\u001b[0m\n\u001b[0;32m----> 3\u001b[0;31m \u001b[0mget_ipython\u001b[0m\u001b[0;34m(\u001b[0m\u001b[0;34m)\u001b[0m\u001b[0;34m.\u001b[0m\u001b[0msystem\u001b[0m\u001b[0;34m(\u001b[0m\u001b[0;34m'pip install \"torch==1.8.1\"'\u001b[0m\u001b[0;34m)\u001b[0m\u001b[0;34m\u001b[0m\u001b[0;34m\u001b[0m\u001b[0m\n\u001b[0m\u001b[1;32m      4\u001b[0m \u001b[0mget_ipython\u001b[0m\u001b[0;34m(\u001b[0m\u001b[0;34m)\u001b[0m\u001b[0;34m.\u001b[0m\u001b[0msystem\u001b[0m\u001b[0;34m(\u001b[0m\u001b[0;34m'pip install \"torchaudio==0.8.0\"'\u001b[0m\u001b[0;34m)\u001b[0m\u001b[0;34m\u001b[0m\u001b[0;34m\u001b[0m\u001b[0m\n\u001b[1;32m      5\u001b[0m \u001b[0mget_ipython\u001b[0m\u001b[0;34m(\u001b[0m\u001b[0;34m)\u001b[0m\u001b[0;34m.\u001b[0m\u001b[0msystem\u001b[0m\u001b[0;34m(\u001b[0m\u001b[0;34m'git clone https://github.com/hugofloresgarcia/torchaudacity'\u001b[0m\u001b[0;34m)\u001b[0m\u001b[0;34m\u001b[0m\u001b[0;34m\u001b[0m\u001b[0m\n",
            "\u001b[0;32m/usr/local/lib/python3.7/dist-packages/google/colab/_shell.py\u001b[0m in \u001b[0;36msystem\u001b[0;34m(self, *args, **kwargs)\u001b[0m\n\u001b[1;32m    100\u001b[0m       \u001b[0mkwargs\u001b[0m\u001b[0;34m.\u001b[0m\u001b[0mupdate\u001b[0m\u001b[0;34m(\u001b[0m\u001b[0;34m{\u001b[0m\u001b[0;34m'also_return_output'\u001b[0m\u001b[0;34m:\u001b[0m \u001b[0;32mTrue\u001b[0m\u001b[0;34m}\u001b[0m\u001b[0;34m)\u001b[0m\u001b[0;34m\u001b[0m\u001b[0;34m\u001b[0m\u001b[0m\n\u001b[1;32m    101\u001b[0m \u001b[0;34m\u001b[0m\u001b[0m\n\u001b[0;32m--> 102\u001b[0;31m     \u001b[0moutput\u001b[0m \u001b[0;34m=\u001b[0m \u001b[0m_system_commands\u001b[0m\u001b[0;34m.\u001b[0m\u001b[0m_system_compat\u001b[0m\u001b[0;34m(\u001b[0m\u001b[0mself\u001b[0m\u001b[0;34m,\u001b[0m \u001b[0;34m*\u001b[0m\u001b[0margs\u001b[0m\u001b[0;34m,\u001b[0m \u001b[0;34m**\u001b[0m\u001b[0mkwargs\u001b[0m\u001b[0;34m)\u001b[0m  \u001b[0;31m# pylint:disable=protected-access\u001b[0m\u001b[0;34m\u001b[0m\u001b[0;34m\u001b[0m\u001b[0m\n\u001b[0m\u001b[1;32m    103\u001b[0m \u001b[0;34m\u001b[0m\u001b[0m\n\u001b[1;32m    104\u001b[0m     \u001b[0;32mif\u001b[0m \u001b[0mpip_warn\u001b[0m\u001b[0;34m:\u001b[0m\u001b[0;34m\u001b[0m\u001b[0;34m\u001b[0m\u001b[0m\n",
            "\u001b[0;32m/usr/local/lib/python3.7/dist-packages/google/colab/_system_commands.py\u001b[0m in \u001b[0;36m_system_compat\u001b[0;34m(shell, cmd, also_return_output)\u001b[0m\n\u001b[1;32m    445\u001b[0m   \u001b[0;31m# stack.\u001b[0m\u001b[0;34m\u001b[0m\u001b[0;34m\u001b[0m\u001b[0;34m\u001b[0m\u001b[0m\n\u001b[1;32m    446\u001b[0m   result = _run_command(\n\u001b[0;32m--> 447\u001b[0;31m       shell.var_expand(cmd, depth=2), clear_streamed_output=False)\n\u001b[0m\u001b[1;32m    448\u001b[0m   \u001b[0mshell\u001b[0m\u001b[0;34m.\u001b[0m\u001b[0muser_ns\u001b[0m\u001b[0;34m[\u001b[0m\u001b[0;34m'_exit_code'\u001b[0m\u001b[0;34m]\u001b[0m \u001b[0;34m=\u001b[0m \u001b[0mresult\u001b[0m\u001b[0;34m.\u001b[0m\u001b[0mreturncode\u001b[0m\u001b[0;34m\u001b[0m\u001b[0;34m\u001b[0m\u001b[0m\n\u001b[1;32m    449\u001b[0m   \u001b[0;32mif\u001b[0m \u001b[0;34m-\u001b[0m\u001b[0mresult\u001b[0m\u001b[0;34m.\u001b[0m\u001b[0mreturncode\u001b[0m \u001b[0;32min\u001b[0m \u001b[0m_INTERRUPTED_SIGNALS\u001b[0m\u001b[0;34m:\u001b[0m\u001b[0;34m\u001b[0m\u001b[0;34m\u001b[0m\u001b[0m\n",
            "\u001b[0;32m/usr/local/lib/python3.7/dist-packages/google/colab/_system_commands.py\u001b[0m in \u001b[0;36m_run_command\u001b[0;34m(cmd, clear_streamed_output)\u001b[0m\n\u001b[1;32m    197\u001b[0m       \u001b[0mos\u001b[0m\u001b[0;34m.\u001b[0m\u001b[0mclose\u001b[0m\u001b[0;34m(\u001b[0m\u001b[0mchild_pty\u001b[0m\u001b[0;34m)\u001b[0m\u001b[0;34m\u001b[0m\u001b[0;34m\u001b[0m\u001b[0m\n\u001b[1;32m    198\u001b[0m \u001b[0;34m\u001b[0m\u001b[0m\n\u001b[0;32m--> 199\u001b[0;31m       \u001b[0;32mreturn\u001b[0m \u001b[0m_monitor_process\u001b[0m\u001b[0;34m(\u001b[0m\u001b[0mparent_pty\u001b[0m\u001b[0;34m,\u001b[0m \u001b[0mepoll\u001b[0m\u001b[0;34m,\u001b[0m \u001b[0mp\u001b[0m\u001b[0;34m,\u001b[0m \u001b[0mcmd\u001b[0m\u001b[0;34m,\u001b[0m \u001b[0mupdate_stdin_widget\u001b[0m\u001b[0;34m)\u001b[0m\u001b[0;34m\u001b[0m\u001b[0;34m\u001b[0m\u001b[0m\n\u001b[0m\u001b[1;32m    200\u001b[0m   \u001b[0;32mfinally\u001b[0m\u001b[0;34m:\u001b[0m\u001b[0;34m\u001b[0m\u001b[0;34m\u001b[0m\u001b[0m\n\u001b[1;32m    201\u001b[0m     \u001b[0mepoll\u001b[0m\u001b[0;34m.\u001b[0m\u001b[0mclose\u001b[0m\u001b[0;34m(\u001b[0m\u001b[0;34m)\u001b[0m\u001b[0;34m\u001b[0m\u001b[0;34m\u001b[0m\u001b[0m\n",
            "\u001b[0;32m/usr/local/lib/python3.7/dist-packages/google/colab/_system_commands.py\u001b[0m in \u001b[0;36m_monitor_process\u001b[0;34m(parent_pty, epoll, p, cmd, update_stdin_widget)\u001b[0m\n\u001b[1;32m    227\u001b[0m   \u001b[0;32mwhile\u001b[0m \u001b[0;32mTrue\u001b[0m\u001b[0;34m:\u001b[0m\u001b[0;34m\u001b[0m\u001b[0;34m\u001b[0m\u001b[0m\n\u001b[1;32m    228\u001b[0m     \u001b[0;32mtry\u001b[0m\u001b[0;34m:\u001b[0m\u001b[0;34m\u001b[0m\u001b[0;34m\u001b[0m\u001b[0m\n\u001b[0;32m--> 229\u001b[0;31m       \u001b[0mresult\u001b[0m \u001b[0;34m=\u001b[0m \u001b[0m_poll_process\u001b[0m\u001b[0;34m(\u001b[0m\u001b[0mparent_pty\u001b[0m\u001b[0;34m,\u001b[0m \u001b[0mepoll\u001b[0m\u001b[0;34m,\u001b[0m \u001b[0mp\u001b[0m\u001b[0;34m,\u001b[0m \u001b[0mcmd\u001b[0m\u001b[0;34m,\u001b[0m \u001b[0mdecoder\u001b[0m\u001b[0;34m,\u001b[0m \u001b[0mstate\u001b[0m\u001b[0;34m)\u001b[0m\u001b[0;34m\u001b[0m\u001b[0;34m\u001b[0m\u001b[0m\n\u001b[0m\u001b[1;32m    230\u001b[0m       \u001b[0;32mif\u001b[0m \u001b[0mresult\u001b[0m \u001b[0;32mis\u001b[0m \u001b[0;32mnot\u001b[0m \u001b[0;32mNone\u001b[0m\u001b[0;34m:\u001b[0m\u001b[0;34m\u001b[0m\u001b[0;34m\u001b[0m\u001b[0m\n\u001b[1;32m    231\u001b[0m         \u001b[0;32mreturn\u001b[0m \u001b[0mresult\u001b[0m\u001b[0;34m\u001b[0m\u001b[0;34m\u001b[0m\u001b[0m\n",
            "\u001b[0;32m/usr/local/lib/python3.7/dist-packages/google/colab/_system_commands.py\u001b[0m in \u001b[0;36m_poll_process\u001b[0;34m(parent_pty, epoll, p, cmd, decoder, state)\u001b[0m\n\u001b[1;32m    329\u001b[0m     \u001b[0;31m# TODO(b/115527726): Rather than sleep, poll for incoming messages from\u001b[0m\u001b[0;34m\u001b[0m\u001b[0;34m\u001b[0m\u001b[0;34m\u001b[0m\u001b[0m\n\u001b[1;32m    330\u001b[0m     \u001b[0;31m# the frontend in the same poll as for the output.\u001b[0m\u001b[0;34m\u001b[0m\u001b[0;34m\u001b[0m\u001b[0;34m\u001b[0m\u001b[0m\n\u001b[0;32m--> 331\u001b[0;31m     \u001b[0mtime\u001b[0m\u001b[0;34m.\u001b[0m\u001b[0msleep\u001b[0m\u001b[0;34m(\u001b[0m\u001b[0;36m0.1\u001b[0m\u001b[0;34m)\u001b[0m\u001b[0;34m\u001b[0m\u001b[0;34m\u001b[0m\u001b[0m\n\u001b[0m\u001b[1;32m    332\u001b[0m \u001b[0;34m\u001b[0m\u001b[0m\n\u001b[1;32m    333\u001b[0m \u001b[0;34m\u001b[0m\u001b[0m\n",
            "\u001b[0;31mKeyboardInterrupt\u001b[0m: "
          ]
        }
      ]
    },
    {
      "cell_type": "code",
      "metadata": {
        "id": "U7ZVTROrjlNe"
      },
      "source": [
        "%%capture\n",
        "import os\n",
        "import math\n",
        "import torch\n",
        "from torch import nn\n",
        "from asteroid.models import ConvTasNet\n",
        "import json\n",
        "from pathlib import Path\n",
        "\n",
        "# use no grad!\n",
        "torch.set_grad_enabled(False)"
      ],
      "execution_count": 29,
      "outputs": []
    },
    {
      "cell_type": "code",
      "metadata": {
        "id": "j5Hf_6C7CRef"
      },
      "source": [
        "%%capture\n",
        "# required for huggingface\n",
        "!sudo apt-get install git-lfs\n",
        "!git lfs install"
      ],
      "execution_count": 30,
      "outputs": []
    },
    {
      "cell_type": "markdown",
      "metadata": {
        "id": "8J7rIc1pdVTs"
      },
      "source": [
        "### Let's serialize a pretrained asteroid model!"
      ]
    },
    {
      "cell_type": "code",
      "metadata": {
        "id": "KMCDOjH2Z9v3"
      },
      "source": [
        "# download pretrained model from Asteroid\n",
        "model = ConvTasNet.from_pretrained('JorisCos/ConvTasNet_Libri2Mix_sepnoisy_16k')"
      ],
      "execution_count": 31,
      "outputs": []
    },
    {
      "cell_type": "code",
      "metadata": {
        "colab": {
          "base_uri": "https://localhost:8080/"
        },
        "id": "UTpJBWTuGPMw",
        "outputId": "52161c00-048c-4111-f1e3-d4e990bf927a"
      },
      "source": [
        "from torchsummary import summary\n",
        "print(summary(model, (1, 4800)))"
      ],
      "execution_count": 32,
      "outputs": [
        {
          "output_type": "stream",
          "name": "stdout",
          "text": [
            "----------------------------------------------------------------\n",
            "        Layer (type)               Output Shape         Param #\n",
            "================================================================\n",
            "           Encoder-1             [-1, 512, 299]               0\n",
            "          Identity-2             [-1, 512, 299]               0\n",
            "            GlobLN-3             [-1, 512, 299]               0\n",
            "            Conv1d-4             [-1, 128, 299]          65,664\n",
            "            Conv1d-5             [-1, 512, 299]          66,048\n",
            "             PReLU-6             [-1, 512, 299]               1\n",
            "            GlobLN-7             [-1, 512, 299]               0\n",
            "            Conv1d-8             [-1, 512, 299]           2,048\n",
            "             PReLU-9             [-1, 512, 299]               1\n",
            "           GlobLN-10             [-1, 512, 299]               0\n",
            "           Conv1d-11             [-1, 128, 299]          65,664\n",
            "           Conv1d-12             [-1, 128, 299]          65,664\n",
            "      Conv1DBlock-13  [[-1, 128, 299], [-1, 128, 299]]               0\n",
            "           Conv1d-14             [-1, 512, 299]          66,048\n",
            "            PReLU-15             [-1, 512, 299]               1\n",
            "           GlobLN-16             [-1, 512, 299]               0\n",
            "           Conv1d-17             [-1, 512, 299]           2,048\n",
            "            PReLU-18             [-1, 512, 299]               1\n",
            "           GlobLN-19             [-1, 512, 299]               0\n",
            "           Conv1d-20             [-1, 128, 299]          65,664\n",
            "           Conv1d-21             [-1, 128, 299]          65,664\n",
            "      Conv1DBlock-22  [[-1, 128, 299], [-1, 128, 299]]               0\n",
            "           Conv1d-23             [-1, 512, 299]          66,048\n",
            "            PReLU-24             [-1, 512, 299]               1\n",
            "           GlobLN-25             [-1, 512, 299]               0\n",
            "           Conv1d-26             [-1, 512, 299]           2,048\n",
            "            PReLU-27             [-1, 512, 299]               1\n",
            "           GlobLN-28             [-1, 512, 299]               0\n",
            "           Conv1d-29             [-1, 128, 299]          65,664\n",
            "           Conv1d-30             [-1, 128, 299]          65,664\n",
            "      Conv1DBlock-31  [[-1, 128, 299], [-1, 128, 299]]               0\n",
            "           Conv1d-32             [-1, 512, 299]          66,048\n",
            "            PReLU-33             [-1, 512, 299]               1\n",
            "           GlobLN-34             [-1, 512, 299]               0\n",
            "           Conv1d-35             [-1, 512, 299]           2,048\n",
            "            PReLU-36             [-1, 512, 299]               1\n",
            "           GlobLN-37             [-1, 512, 299]               0\n",
            "           Conv1d-38             [-1, 128, 299]          65,664\n",
            "           Conv1d-39             [-1, 128, 299]          65,664\n",
            "      Conv1DBlock-40  [[-1, 128, 299], [-1, 128, 299]]               0\n",
            "           Conv1d-41             [-1, 512, 299]          66,048\n",
            "            PReLU-42             [-1, 512, 299]               1\n",
            "           GlobLN-43             [-1, 512, 299]               0\n",
            "           Conv1d-44             [-1, 512, 299]           2,048\n",
            "            PReLU-45             [-1, 512, 299]               1\n",
            "           GlobLN-46             [-1, 512, 299]               0\n",
            "           Conv1d-47             [-1, 128, 299]          65,664\n",
            "           Conv1d-48             [-1, 128, 299]          65,664\n",
            "      Conv1DBlock-49  [[-1, 128, 299], [-1, 128, 299]]               0\n",
            "           Conv1d-50             [-1, 512, 299]          66,048\n",
            "            PReLU-51             [-1, 512, 299]               1\n",
            "           GlobLN-52             [-1, 512, 299]               0\n",
            "           Conv1d-53             [-1, 512, 299]           2,048\n",
            "            PReLU-54             [-1, 512, 299]               1\n",
            "           GlobLN-55             [-1, 512, 299]               0\n",
            "           Conv1d-56             [-1, 128, 299]          65,664\n",
            "           Conv1d-57             [-1, 128, 299]          65,664\n",
            "      Conv1DBlock-58  [[-1, 128, 299], [-1, 128, 299]]               0\n",
            "           Conv1d-59             [-1, 512, 299]          66,048\n",
            "            PReLU-60             [-1, 512, 299]               1\n",
            "           GlobLN-61             [-1, 512, 299]               0\n",
            "           Conv1d-62             [-1, 512, 299]           2,048\n",
            "            PReLU-63             [-1, 512, 299]               1\n",
            "           GlobLN-64             [-1, 512, 299]               0\n",
            "           Conv1d-65             [-1, 128, 299]          65,664\n",
            "           Conv1d-66             [-1, 128, 299]          65,664\n",
            "      Conv1DBlock-67  [[-1, 128, 299], [-1, 128, 299]]               0\n",
            "           Conv1d-68             [-1, 512, 299]          66,048\n",
            "            PReLU-69             [-1, 512, 299]               1\n",
            "           GlobLN-70             [-1, 512, 299]               0\n",
            "           Conv1d-71             [-1, 512, 299]           2,048\n",
            "            PReLU-72             [-1, 512, 299]               1\n",
            "           GlobLN-73             [-1, 512, 299]               0\n",
            "           Conv1d-74             [-1, 128, 299]          65,664\n",
            "           Conv1d-75             [-1, 128, 299]          65,664\n",
            "      Conv1DBlock-76  [[-1, 128, 299], [-1, 128, 299]]               0\n",
            "           Conv1d-77             [-1, 512, 299]          66,048\n",
            "            PReLU-78             [-1, 512, 299]               1\n",
            "           GlobLN-79             [-1, 512, 299]               0\n",
            "           Conv1d-80             [-1, 512, 299]           2,048\n",
            "            PReLU-81             [-1, 512, 299]               1\n",
            "           GlobLN-82             [-1, 512, 299]               0\n",
            "           Conv1d-83             [-1, 128, 299]          65,664\n",
            "           Conv1d-84             [-1, 128, 299]          65,664\n",
            "      Conv1DBlock-85  [[-1, 128, 299], [-1, 128, 299]]               0\n",
            "           Conv1d-86             [-1, 512, 299]          66,048\n",
            "            PReLU-87             [-1, 512, 299]               1\n",
            "           GlobLN-88             [-1, 512, 299]               0\n",
            "           Conv1d-89             [-1, 512, 299]           2,048\n",
            "            PReLU-90             [-1, 512, 299]               1\n",
            "           GlobLN-91             [-1, 512, 299]               0\n",
            "           Conv1d-92             [-1, 128, 299]          65,664\n",
            "           Conv1d-93             [-1, 128, 299]          65,664\n",
            "      Conv1DBlock-94  [[-1, 128, 299], [-1, 128, 299]]               0\n",
            "           Conv1d-95             [-1, 512, 299]          66,048\n",
            "            PReLU-96             [-1, 512, 299]               1\n",
            "           GlobLN-97             [-1, 512, 299]               0\n",
            "           Conv1d-98             [-1, 512, 299]           2,048\n",
            "            PReLU-99             [-1, 512, 299]               1\n",
            "          GlobLN-100             [-1, 512, 299]               0\n",
            "          Conv1d-101             [-1, 128, 299]          65,664\n",
            "          Conv1d-102             [-1, 128, 299]          65,664\n",
            "     Conv1DBlock-103  [[-1, 128, 299], [-1, 128, 299]]               0\n",
            "          Conv1d-104             [-1, 512, 299]          66,048\n",
            "           PReLU-105             [-1, 512, 299]               1\n",
            "          GlobLN-106             [-1, 512, 299]               0\n",
            "          Conv1d-107             [-1, 512, 299]           2,048\n",
            "           PReLU-108             [-1, 512, 299]               1\n",
            "          GlobLN-109             [-1, 512, 299]               0\n",
            "          Conv1d-110             [-1, 128, 299]          65,664\n",
            "          Conv1d-111             [-1, 128, 299]          65,664\n",
            "     Conv1DBlock-112  [[-1, 128, 299], [-1, 128, 299]]               0\n",
            "          Conv1d-113             [-1, 512, 299]          66,048\n",
            "           PReLU-114             [-1, 512, 299]               1\n",
            "          GlobLN-115             [-1, 512, 299]               0\n",
            "          Conv1d-116             [-1, 512, 299]           2,048\n",
            "           PReLU-117             [-1, 512, 299]               1\n",
            "          GlobLN-118             [-1, 512, 299]               0\n",
            "          Conv1d-119             [-1, 128, 299]          65,664\n",
            "          Conv1d-120             [-1, 128, 299]          65,664\n",
            "     Conv1DBlock-121  [[-1, 128, 299], [-1, 128, 299]]               0\n",
            "          Conv1d-122             [-1, 512, 299]          66,048\n",
            "           PReLU-123             [-1, 512, 299]               1\n",
            "          GlobLN-124             [-1, 512, 299]               0\n",
            "          Conv1d-125             [-1, 512, 299]           2,048\n",
            "           PReLU-126             [-1, 512, 299]               1\n",
            "          GlobLN-127             [-1, 512, 299]               0\n",
            "          Conv1d-128             [-1, 128, 299]          65,664\n",
            "          Conv1d-129             [-1, 128, 299]          65,664\n",
            "     Conv1DBlock-130  [[-1, 128, 299], [-1, 128, 299]]               0\n",
            "          Conv1d-131             [-1, 512, 299]          66,048\n",
            "           PReLU-132             [-1, 512, 299]               1\n",
            "          GlobLN-133             [-1, 512, 299]               0\n",
            "          Conv1d-134             [-1, 512, 299]           2,048\n",
            "           PReLU-135             [-1, 512, 299]               1\n",
            "          GlobLN-136             [-1, 512, 299]               0\n",
            "          Conv1d-137             [-1, 128, 299]          65,664\n",
            "          Conv1d-138             [-1, 128, 299]          65,664\n",
            "     Conv1DBlock-139  [[-1, 128, 299], [-1, 128, 299]]               0\n",
            "          Conv1d-140             [-1, 512, 299]          66,048\n",
            "           PReLU-141             [-1, 512, 299]               1\n",
            "          GlobLN-142             [-1, 512, 299]               0\n",
            "          Conv1d-143             [-1, 512, 299]           2,048\n",
            "           PReLU-144             [-1, 512, 299]               1\n",
            "          GlobLN-145             [-1, 512, 299]               0\n",
            "          Conv1d-146             [-1, 128, 299]          65,664\n",
            "          Conv1d-147             [-1, 128, 299]          65,664\n",
            "     Conv1DBlock-148  [[-1, 128, 299], [-1, 128, 299]]               0\n",
            "          Conv1d-149             [-1, 512, 299]          66,048\n",
            "           PReLU-150             [-1, 512, 299]               1\n",
            "          GlobLN-151             [-1, 512, 299]               0\n",
            "          Conv1d-152             [-1, 512, 299]           2,048\n",
            "           PReLU-153             [-1, 512, 299]               1\n",
            "          GlobLN-154             [-1, 512, 299]               0\n",
            "          Conv1d-155             [-1, 128, 299]          65,664\n",
            "          Conv1d-156             [-1, 128, 299]          65,664\n",
            "     Conv1DBlock-157  [[-1, 128, 299], [-1, 128, 299]]               0\n",
            "          Conv1d-158             [-1, 512, 299]          66,048\n",
            "           PReLU-159             [-1, 512, 299]               1\n",
            "          GlobLN-160             [-1, 512, 299]               0\n",
            "          Conv1d-161             [-1, 512, 299]           2,048\n",
            "           PReLU-162             [-1, 512, 299]               1\n",
            "          GlobLN-163             [-1, 512, 299]               0\n",
            "          Conv1d-164             [-1, 128, 299]          65,664\n",
            "          Conv1d-165             [-1, 128, 299]          65,664\n",
            "     Conv1DBlock-166  [[-1, 128, 299], [-1, 128, 299]]               0\n",
            "          Conv1d-167             [-1, 512, 299]          66,048\n",
            "           PReLU-168             [-1, 512, 299]               1\n",
            "          GlobLN-169             [-1, 512, 299]               0\n",
            "          Conv1d-170             [-1, 512, 299]           2,048\n",
            "           PReLU-171             [-1, 512, 299]               1\n",
            "          GlobLN-172             [-1, 512, 299]               0\n",
            "          Conv1d-173             [-1, 128, 299]          65,664\n",
            "          Conv1d-174             [-1, 128, 299]          65,664\n",
            "     Conv1DBlock-175  [[-1, 128, 299], [-1, 128, 299]]               0\n",
            "          Conv1d-176             [-1, 512, 299]          66,048\n",
            "           PReLU-177             [-1, 512, 299]               1\n",
            "          GlobLN-178             [-1, 512, 299]               0\n",
            "          Conv1d-179             [-1, 512, 299]           2,048\n",
            "           PReLU-180             [-1, 512, 299]               1\n",
            "          GlobLN-181             [-1, 512, 299]               0\n",
            "          Conv1d-182             [-1, 128, 299]          65,664\n",
            "          Conv1d-183             [-1, 128, 299]          65,664\n",
            "     Conv1DBlock-184  [[-1, 128, 299], [-1, 128, 299]]               0\n",
            "          Conv1d-185             [-1, 512, 299]          66,048\n",
            "           PReLU-186             [-1, 512, 299]               1\n",
            "          GlobLN-187             [-1, 512, 299]               0\n",
            "          Conv1d-188             [-1, 512, 299]           2,048\n",
            "           PReLU-189             [-1, 512, 299]               1\n",
            "          GlobLN-190             [-1, 512, 299]               0\n",
            "          Conv1d-191             [-1, 128, 299]          65,664\n",
            "          Conv1d-192             [-1, 128, 299]          65,664\n",
            "     Conv1DBlock-193  [[-1, 128, 299], [-1, 128, 299]]               0\n",
            "          Conv1d-194             [-1, 512, 299]          66,048\n",
            "           PReLU-195             [-1, 512, 299]               1\n",
            "          GlobLN-196             [-1, 512, 299]               0\n",
            "          Conv1d-197             [-1, 512, 299]           2,048\n",
            "           PReLU-198             [-1, 512, 299]               1\n",
            "          GlobLN-199             [-1, 512, 299]               0\n",
            "          Conv1d-200             [-1, 128, 299]          65,664\n",
            "          Conv1d-201             [-1, 128, 299]          65,664\n",
            "     Conv1DBlock-202  [[-1, 128, 299], [-1, 128, 299]]               0\n",
            "          Conv1d-203             [-1, 512, 299]          66,048\n",
            "           PReLU-204             [-1, 512, 299]               1\n",
            "          GlobLN-205             [-1, 512, 299]               0\n",
            "          Conv1d-206             [-1, 512, 299]           2,048\n",
            "           PReLU-207             [-1, 512, 299]               1\n",
            "          GlobLN-208             [-1, 512, 299]               0\n",
            "          Conv1d-209             [-1, 128, 299]          65,664\n",
            "          Conv1d-210             [-1, 128, 299]          65,664\n",
            "     Conv1DBlock-211  [[-1, 128, 299], [-1, 128, 299]]               0\n",
            "          Conv1d-212             [-1, 512, 299]          66,048\n",
            "           PReLU-213             [-1, 512, 299]               1\n",
            "          GlobLN-214             [-1, 512, 299]               0\n",
            "          Conv1d-215             [-1, 512, 299]           2,048\n",
            "           PReLU-216             [-1, 512, 299]               1\n",
            "          GlobLN-217             [-1, 512, 299]               0\n",
            "          Conv1d-218             [-1, 128, 299]          65,664\n",
            "          Conv1d-219             [-1, 128, 299]          65,664\n",
            "     Conv1DBlock-220  [[-1, 128, 299], [-1, 128, 299]]               0\n",
            "           PReLU-221             [-1, 128, 299]               1\n",
            "          Conv1d-222            [-1, 1024, 299]         132,096\n",
            "            ReLU-223          [-1, 2, 512, 299]               0\n",
            "       TDConvNet-224          [-1, 2, 512, 299]               0\n",
            "         Decoder-225              [-1, 2, 4800]               0\n",
            "================================================================\n",
            "Total params: 4,983,985\n",
            "Trainable params: 4,983,985\n",
            "Non-trainable params: 0\n",
            "----------------------------------------------------------------\n",
            "Input size (MB): 0.02\n",
            "Forward/backward pass size (MB): 268009.63\n",
            "Params size (MB): 19.01\n",
            "Estimated Total Size (MB): 268028.66\n",
            "----------------------------------------------------------------\n",
            "None\n"
          ]
        }
      ]
    },
    {
      "cell_type": "markdown",
      "metadata": {
        "id": "sUq26hjglXj9"
      },
      "source": [
        "### Model Metadata\n",
        "\n"
      ]
    },
    {
      "cell_type": "markdown",
      "metadata": {
        "id": "62_A5Qrj_x3A"
      },
      "source": [
        "We need to create a `metadata.json` file for our model. Certain details about the model, such as its sample rate, tool type (e.g. waveform-to-waveform or waveform-to-labels), list of labels, etc. must be provided in a separate metadata file. See the [contributing documentation](interactiveaudiolab.github.io/audacity/contrib) for the full metadata schema."
      ]
    },
    {
      "cell_type": "code",
      "metadata": {
        "id": "M802buygTo7q"
      },
      "source": [
        "# create a dictionary with model metadata\n",
        "args = model.get_model_args()\n",
        "metadata = {\n",
        "    'sample_rate': int(args['sample_rate']), \n",
        "    'domain_tags': ['speech'],\n",
        "    'short_description': 'Use me for speech separation! Works with 2 speakers.',\n",
        "    'long_description':  'This model was trained by Joris Cosentino using the librimix recipe in Asteroid. It was trained on the sep_noisy task of the Libri2Mix dataset.',\n",
        "    'tags': ['speech separation', 'speech'],\n",
        "    'labels': ['speaker-1', 'speaker-2'],\n",
        "    'effect_type': 'waveform-to-waveform',\n",
        "    'multichannel': False,\n",
        "}"
      ],
      "execution_count": 33,
      "outputs": []
    },
    {
      "cell_type": "markdown",
      "metadata": {
        "id": "xKWzYa1DDGgb"
      },
      "source": [
        "Waveform-to-waveform models for Audacity need to be end-to-end. That is, our model needs to be able to receive a waveform tensor as input (shape `(n_channels, n_samples`), and return a waveform tensor as output (shape `n_src, n_samples`). \n",
        "\n",
        "Lucky for us, Asteroid already contains a `separate()` method for performing source separation directly from a waveform tensor to another waveform tensor, so all we need to do is remove the batch dimension!"
      ]
    },
    {
      "cell_type": "code",
      "metadata": {
        "colab": {
          "base_uri": "https://localhost:8080/",
          "height": 317
        },
        "id": "Hy_hU3FTuGP6",
        "outputId": "35f4151d-9142-4dd0-96ee-bfc4c8ede702"
      },
      "source": [
        "from torchaudacity import WaveformToWaveform\n",
        "from torchaudacity.utils import save_model"
      ],
      "execution_count": 34,
      "outputs": [
        {
          "output_type": "error",
          "ename": "ImportError",
          "evalue": "ignored",
          "traceback": [
            "\u001b[0;31m---------------------------------------------------------------------------\u001b[0m",
            "\u001b[0;31mImportError\u001b[0m                               Traceback (most recent call last)",
            "\u001b[0;32m<ipython-input-34-05f573d0c371>\u001b[0m in \u001b[0;36m<module>\u001b[0;34m()\u001b[0m\n\u001b[0;32m----> 1\u001b[0;31m \u001b[0;32mfrom\u001b[0m \u001b[0mtorchaudacity\u001b[0m \u001b[0;32mimport\u001b[0m \u001b[0mWaveformToWaveform\u001b[0m\u001b[0;34m\u001b[0m\u001b[0;34m\u001b[0m\u001b[0m\n\u001b[0m\u001b[1;32m      2\u001b[0m \u001b[0;32mfrom\u001b[0m \u001b[0mtorchaudacity\u001b[0m\u001b[0;34m.\u001b[0m\u001b[0mutils\u001b[0m \u001b[0;32mimport\u001b[0m \u001b[0msave_model\u001b[0m\u001b[0;34m\u001b[0m\u001b[0;34m\u001b[0m\u001b[0m\n",
            "\u001b[0;31mImportError\u001b[0m: cannot import name 'WaveformToWaveform' from 'torchaudacity' (unknown location)",
            "",
            "\u001b[0;31m---------------------------------------------------------------------------\u001b[0;32m\nNOTE: If your import is failing due to a missing package, you can\nmanually install dependencies using either !pip or !apt.\n\nTo view examples of installing some common dependencies, click the\n\"Open Examples\" button below.\n\u001b[0;31m---------------------------------------------------------------------------\u001b[0m\n"
          ],
          "errorDetails": {
            "actions": [
              {
                "action": "open_url",
                "actionText": "Open Examples",
                "url": "/notebooks/snippets/importing_libraries.ipynb"
              }
            ]
          }
        }
      ]
    },
    {
      "cell_type": "code",
      "metadata": {
        "id": "sMRNkxNluqLt"
      },
      "source": [
        "# look at the docstring for do_forward_pass\n",
        "WaveformToWaveform.do_forward_pass?"
      ],
      "execution_count": null,
      "outputs": []
    },
    {
      "cell_type": "code",
      "metadata": {
        "id": "DJi9FwNUmAvK"
      },
      "source": [
        " class AsteroidWrapper(WaveformToWaveform):\n",
        "\n",
        "  def do_forward_pass(self, x: torch.Tensor) -> torch.Tensor:\n",
        "    return self.model.separate(x)[0]"
      ],
      "execution_count": null,
      "outputs": []
    },
    {
      "cell_type": "markdown",
      "metadata": {
        "id": "H3-gv7t_EL6X"
      },
      "source": [
        "## Serialize!\n",
        "\n",
        "We now have an `AsteroidWrapper` class that satisfies the input/output constraints required by waveform-to-waveform models in Audacity. It's time to serialize into a `torchscript` model. "
      ]
    },
    {
      "cell_type": "code",
      "metadata": {
        "id": "5gjC2XUkTqSx"
      },
      "source": [
        "# compile!\n",
        "wrapper = AsteroidWrapper(model)\n",
        "example_inputs = wrapper.get_example_inputs()\n",
        "\n",
        "serialized_model = torch.jit.trace(wrapper, example_inputs[0], \n",
        "                                   check_inputs=example_inputs)\n",
        "serialized_model = torch.jit.script(serialized_model)\n",
        "\n",
        "print(f'sample input shape: {example_inputs[0].shape}')\n",
        "print(f'sample output shape: {serialized_model(example_inputs[0]).shape}')\n",
        "\n",
        "save_model(serialized_model, metadata, Path('ConvTasNet-DAMP-Vocals'))"
      ],
      "execution_count": null,
      "outputs": []
    },
    {
      "cell_type": "markdown",
      "metadata": {
        "id": "aTszwz7FD27l"
      },
      "source": [
        "## All set!\n",
        "\n",
        "Your `model.pt` and `metadata.json` files are ready for upload to HuggingFace. Once your model has been uploaded, you will be able to access it in Audacity by . See the [contributing documentation](https://interactiveaudiolab.github.io/audacity/contrib) for more information on uploading to HuggingFace. "
      ]
    },
    {
      "cell_type": "code",
      "metadata": {
        "id": "Jrdx1qN_wlGJ"
      },
      "source": [
        ""
      ],
      "execution_count": null,
      "outputs": []
    }
  ]
}